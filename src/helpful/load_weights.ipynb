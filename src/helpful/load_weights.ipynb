{
 "cells": [
  {
   "cell_type": "code",
   "execution_count": 5,
   "metadata": {},
   "outputs": [],
   "source": [
    "!conda install pandas"
   ]
  },
  {
   "cell_type": "code",
   "execution_count": 4,
   "metadata": {},
   "outputs": [],
   "source": [
    "import numpy as np\n",
    "\n",
    "# Load the CSV file into a NumPy array\n",
    "file_path = \"../../dataset/modified_ptbxl (fed 1).csv\"  # Replace with your actual file path\n",
    "data = np.genfromtxt(file_path, delimiter=',', dtype=None, encoding=None, skip_header=1)\n",
    "\n",
    "# Extract the header\n",
    "with open(file_path, 'r') as f:\n",
    "    header = f.readline().strip().split(',')\n",
    "\n",
    "# Filter out rows where the first column has values 888 or 999\n",
    "filtered_data = data[(data[:, 0] != 888) & (data[:, 0] != 999)]\n",
    "\n",
    "# Save the filtered data to a new CSV file\n",
    "filtered_file_path = \"../../dataset/filtered_file.csv\"\n",
    "np.savetxt(filtered_file_path, filtered_data, delimiter=',', header=','.join(header), comments='', fmt='%s')\n",
    "\n",
    "print(f\"Filtered data has been saved to {filtered_file_path}\")"
   ]
  }
 ],
 "metadata": {
  "kernelspec": {
   "display_name": "flwr_env",
   "language": "python",
   "name": "python3"
  },
  "language_info": {
   "codemirror_mode": {
    "name": "ipython",
    "version": 3
   },
   "file_extension": ".py",
   "mimetype": "text/x-python",
   "name": "python",
   "nbconvert_exporter": "python",
   "pygments_lexer": "ipython3",
   "version": "3.10.14"
  }
 },
 "nbformat": 4,
 "nbformat_minor": 2
}
