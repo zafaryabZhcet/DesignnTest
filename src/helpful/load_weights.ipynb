{
 "cells": [
  {
   "cell_type": "code",
   "execution_count": 5,
   "metadata": {},
   "outputs": [
    {
     "name": "stdout",
     "output_type": "stream",
     "text": [
      "^C\n"
     ]
    }
   ],
   "source": [
    "!conda install pandas"
   ]
  },
  {
   "cell_type": "code",
   "execution_count": 13,
   "metadata": {},
   "outputs": [
    {
     "ename": "AttributeError",
     "evalue": "'numpy.ndarray' object has no attribute 'split'",
     "output_type": "error",
     "traceback": [
      "\u001b[1;31m---------------------------------------------------------------------------\u001b[0m",
      "\u001b[1;31mAttributeError\u001b[0m                            Traceback (most recent call last)",
      "Cell \u001b[1;32mIn [13], line 12\u001b[0m\n\u001b[0;32m      9\u001b[0m     header \u001b[38;5;241m=\u001b[39m f\u001b[38;5;241m.\u001b[39mreadline()\u001b[38;5;241m.\u001b[39mstrip()\u001b[38;5;241m.\u001b[39msplit(\u001b[38;5;124m'\u001b[39m\u001b[38;5;124m,\u001b[39m\u001b[38;5;124m'\u001b[39m)\n\u001b[0;32m     11\u001b[0m \u001b[38;5;66;03m# Ensure data is interpreted correctly as a 2D array of strings\u001b[39;00m\n\u001b[1;32m---> 12\u001b[0m data \u001b[38;5;241m=\u001b[39m np\u001b[38;5;241m.\u001b[39marray([row\u001b[38;5;241m.\u001b[39msplit(\u001b[38;5;124m'\u001b[39m\u001b[38;5;124m,\u001b[39m\u001b[38;5;124m'\u001b[39m) \u001b[38;5;28;01mfor\u001b[39;00m row \u001b[38;5;129;01min\u001b[39;00m data])\n\u001b[0;32m     14\u001b[0m \u001b[38;5;66;03m# Convert the first column to integers for comparison\u001b[39;00m\n\u001b[0;32m     15\u001b[0m first_column \u001b[38;5;241m=\u001b[39m data[:, \u001b[38;5;241m0\u001b[39m]\u001b[38;5;241m.\u001b[39mastype(\u001b[38;5;28mint\u001b[39m)\n",
      "Cell \u001b[1;32mIn [13], line 12\u001b[0m, in \u001b[0;36m<listcomp>\u001b[1;34m(.0)\u001b[0m\n\u001b[0;32m      9\u001b[0m     header \u001b[38;5;241m=\u001b[39m f\u001b[38;5;241m.\u001b[39mreadline()\u001b[38;5;241m.\u001b[39mstrip()\u001b[38;5;241m.\u001b[39msplit(\u001b[38;5;124m'\u001b[39m\u001b[38;5;124m,\u001b[39m\u001b[38;5;124m'\u001b[39m)\n\u001b[0;32m     11\u001b[0m \u001b[38;5;66;03m# Ensure data is interpreted correctly as a 2D array of strings\u001b[39;00m\n\u001b[1;32m---> 12\u001b[0m data \u001b[38;5;241m=\u001b[39m np\u001b[38;5;241m.\u001b[39marray([\u001b[43mrow\u001b[49m\u001b[38;5;241;43m.\u001b[39;49m\u001b[43msplit\u001b[49m(\u001b[38;5;124m'\u001b[39m\u001b[38;5;124m,\u001b[39m\u001b[38;5;124m'\u001b[39m) \u001b[38;5;28;01mfor\u001b[39;00m row \u001b[38;5;129;01min\u001b[39;00m data])\n\u001b[0;32m     14\u001b[0m \u001b[38;5;66;03m# Convert the first column to integers for comparison\u001b[39;00m\n\u001b[0;32m     15\u001b[0m first_column \u001b[38;5;241m=\u001b[39m data[:, \u001b[38;5;241m0\u001b[39m]\u001b[38;5;241m.\u001b[39mastype(\u001b[38;5;28mint\u001b[39m)\n",
      "\u001b[1;31mAttributeError\u001b[0m: 'numpy.ndarray' object has no attribute 'split'"
     ]
    }
   ],
   "source": [
    "import numpy as np\n",
    "\n",
    "# Load the CSV file into a NumPy array\n",
    "file_path = \"../../dataset/modified_ptbxl (fed 1).csv\"  # Replace with your actual file path\n",
    "data = np.genfromtxt(file_path, delimiter=',', dtype=str, skip_header=1)\n",
    "\n",
    "# Extract the header\n",
    "with open(file_path, 'r') as f:\n",
    "    header = f.readline().strip().split(',')\n",
    "\n",
    "# Ensure data is interpreted correctly as a 2D array of strings\n",
    "data = np.array([row.split(',') for row in data])\n",
    "\n",
    "# Convert the first column to integers for comparison\n",
    "first_column = data[:, 0].astype(int)\n",
    "\n",
    "# Filter out rows where the first column has values 888 or 999\n",
    "filtered_data = data[(first_column != 888) & (first_column != 999)]\n",
    "\n",
    "# Save the filtered data to a new CSV file\n",
    "filtered_file_path = \"../../dataset/filtered_file.csv\"\n",
    "np.savetxt(filtered_file_path, filtered_data, delimiter=',', header=','.join(header), comments='', fmt='%s')\n",
    "\n",
    "print(f\"Filtered data has been saved to {filtered_file_path}\")\n"
   ]
  }
 ],
 "metadata": {
  "kernelspec": {
   "display_name": "flwr_env",
   "language": "python",
   "name": "python3"
  },
  "language_info": {
   "codemirror_mode": {
    "name": "ipython",
    "version": 3
   },
   "file_extension": ".py",
   "mimetype": "text/x-python",
   "name": "python",
   "nbconvert_exporter": "python",
   "pygments_lexer": "ipython3",
   "version": "3.10.14"
  }
 },
 "nbformat": 4,
 "nbformat_minor": 2
}
